{
 "cells": [
  {
   "cell_type": "code",
   "execution_count": 99,
   "metadata": {},
   "outputs": [],
   "source": [
    "import ColabTurtle.Turtle\n",
    "from abc import ABC, abstractproperty\n",
    "import math\n",
    "from ColabTurtle.Turtle import *"
   ]
  },
  {
   "cell_type": "code",
   "execution_count": 118,
   "metadata": {},
   "outputs": [],
   "source": [
    "# Define the parent class 'Car'\n",
    "class Car:\n",
    "    def __init__(self, colour , scale):\n",
    "        self._scale = scale\n",
    "        self._colour = colour\n",
    "        self._turtle = ColabTurtle.Turtle\n",
    "        self._turtle.initializeTurtle(initial_speed=10)\n",
    "        self._turtle.penup()\n",
    "        self._turtle.color(self.colour)\n",
    "    \n",
    "    @property\n",
    "    def scale(self) :\n",
    "        return(self._scale)\n",
    "    \n",
    "    @property\n",
    "    def colour(self) :\n",
    "        return(self._colour)\n",
    "    \n",
    "    @abstractproperty\n",
    "    def draw(self) :\n",
    "        pass\n",
    "\n",
    "        \n",
    "# Define child class 'Four_Wheels'\n",
    "class Four_Wheels(Car):\n",
    "    def __init__(self , colour , scale):\n",
    "        super().__init__(colour , scale)\n",
    "    \n",
    "    def draw(self):\n",
    "        self._turtle.pendown()\n",
    "        self._turtle.left(90)\n",
    "        self._turtle.forward(100 * self._scale)\n",
    "        self._turtle.right(90)\n",
    "        \n",
    "        for i in range (54): #front wheels\n",
    "            self._turtle.forward(10 * self._scale)\n",
    "            self._turtle.left(10)\n",
    "        \n",
    "        self._turtle.right(90)\n",
    "        self._turtle.forward(50 * self._scale)\n",
    "        self._turtle.right(90)\n",
    "        self._turtle.left(75)\n",
    "        self._turtle.right(5)\n",
    "        self._turtle.forward(50 * self._scale)\n",
    "        self._turtle.right(25)\n",
    "        self._turtle.forward(50)\n",
    "        self._turtle.right(45)\n",
    "        self._turtle.forward(50 * self._scale)\n",
    "        self._turtle.right(90)\n",
    "        self._turtle.forward(200 * self._scale)\n",
    "        self._turtle.left(75)\n",
    "        self._turtle.forward(80 * self._scale)\n",
    "        self._turtle.right(75)\n",
    "        self._turtle.forward(200 * self._scale)\n",
    "        self._turtle.right(75)\n",
    "        self._turtle.forward(80 * self._scale)\n",
    "        self._turtle.left(75)\n",
    "        self._turtle.back(100 * self._scale)\n",
    "        self._turtle.left(90)\n",
    "        self._turtle.forward(60 * self._scale)\n",
    "        self._turtle.right(90)\n",
    "        self._turtle.forward(85 * self._scale)\n",
    "        self._turtle.right(75)\n",
    "        self._turtle.forward(60 * self._scale)\n",
    "        self._turtle.left(75)\n",
    "        self._turtle.right(5)\n",
    "        self._turtle.forward(200 * self._scale)\n",
    "        self._turtle.right(85)\n",
    "        self._turtle.forward(40 * self._scale)\n",
    "        self._turtle.left(65)\n",
    "        self._turtle.forward(20 * self._scale)\n",
    "        self._turtle.right(75)\n",
    "        self._turtle.forward(50 * self._scale)\n",
    "        self._turtle.right(80)\n",
    "        self._turtle.forward(100 * self._scale)\n",
    "        self._turtle.right(90)\n",
    "        for i in range (55):\n",
    "            self._turtle.forward(10 * self._scale)\n",
    "            self._turtle.left(10)\n",
    "        self._turtle.right(100)\n",
    "        self._turtle.forward(100 * self._scale)\n",
    "        self._turtle.hideturtle()\n",
    "\n",
    "# Define the sub class of 'Four_Wheels' given name 'Modify_Car'\n",
    "class Modify_Car(Four_Wheels):\n",
    "    def __init__(self , colour , scale):\n",
    "        super().__init__(colour, scale)\n",
    "    \n",
    "    #SpoilerBack\n",
    "    \n",
    "    #Bump Front\n",
    "    \n",
    "    #Storage_Roof\n",
    "    \n",
    "    #Siren\n",
    "\n",
    "\n",
    "    "
   ]
  },
  {
   "cell_type": "code",
   "execution_count": 119,
   "metadata": {},
   "outputs": [
    {
     "data": {
      "text/html": [
       "\n",
       "      <svg width=\"800\" height=\"500\">\n",
       "        <rect width=\"100%\" height=\"100%\" fill=\"black\"/>\n",
       "        <line x1=\"400\" y1=\"250\" x2=\"300.0\" y2=\"250.0\" stroke-linecap=\"round\" style=\"stroke:red;stroke-width:4\"/><line x1=\"300.0\" y1=\"250.0\" x2=\"300.0\" y2=\"240.0\" stroke-linecap=\"round\" style=\"stroke:red;stroke-width:4\"/><line x1=\"300.0\" y1=\"240.0\" x2=\"298.264\" y2=\"230.152\" stroke-linecap=\"round\" style=\"stroke:red;stroke-width:4\"/><line x1=\"298.264\" y1=\"230.152\" x2=\"294.844\" y2=\"220.755\" stroke-linecap=\"round\" style=\"stroke:red;stroke-width:4\"/><line x1=\"294.844\" y1=\"220.755\" x2=\"289.844\" y2=\"212.095\" stroke-linecap=\"round\" style=\"stroke:red;stroke-width:4\"/><line x1=\"289.844\" y1=\"212.095\" x2=\"283.416\" y2=\"204.435\" stroke-linecap=\"round\" style=\"stroke:red;stroke-width:4\"/><line x1=\"283.416\" y1=\"204.435\" x2=\"275.756\" y2=\"198.007\" stroke-linecap=\"round\" style=\"stroke:red;stroke-width:4\"/><line x1=\"275.756\" y1=\"198.007\" x2=\"267.096\" y2=\"193.007\" stroke-linecap=\"round\" style=\"stroke:red;stroke-width:4\"/><line x1=\"267.096\" y1=\"193.007\" x2=\"257.699\" y2=\"189.587\" stroke-linecap=\"round\" style=\"stroke:red;stroke-width:4\"/><line x1=\"257.699\" y1=\"189.587\" x2=\"247.851\" y2=\"187.851\" stroke-linecap=\"round\" style=\"stroke:red;stroke-width:4\"/><line x1=\"247.851\" y1=\"187.851\" x2=\"237.851\" y2=\"187.851\" stroke-linecap=\"round\" style=\"stroke:red;stroke-width:4\"/><line x1=\"237.851\" y1=\"187.851\" x2=\"228.003\" y2=\"189.587\" stroke-linecap=\"round\" style=\"stroke:red;stroke-width:4\"/><line x1=\"228.003\" y1=\"189.587\" x2=\"218.606\" y2=\"193.007\" stroke-linecap=\"round\" style=\"stroke:red;stroke-width:4\"/><line x1=\"218.606\" y1=\"193.007\" x2=\"209.946\" y2=\"198.007\" stroke-linecap=\"round\" style=\"stroke:red;stroke-width:4\"/><line x1=\"209.946\" y1=\"198.007\" x2=\"202.286\" y2=\"204.435\" stroke-linecap=\"round\" style=\"stroke:red;stroke-width:4\"/><line x1=\"202.286\" y1=\"204.435\" x2=\"195.858\" y2=\"212.095\" stroke-linecap=\"round\" style=\"stroke:red;stroke-width:4\"/><line x1=\"195.858\" y1=\"212.095\" x2=\"190.858\" y2=\"220.755\" stroke-linecap=\"round\" style=\"stroke:red;stroke-width:4\"/><line x1=\"190.858\" y1=\"220.755\" x2=\"187.438\" y2=\"230.152\" stroke-linecap=\"round\" style=\"stroke:red;stroke-width:4\"/><line x1=\"187.438\" y1=\"230.152\" x2=\"185.702\" y2=\"240.0\" stroke-linecap=\"round\" style=\"stroke:red;stroke-width:4\"/><line x1=\"185.702\" y1=\"240.0\" x2=\"185.702\" y2=\"250.0\" stroke-linecap=\"round\" style=\"stroke:red;stroke-width:4\"/><line x1=\"185.702\" y1=\"250.0\" x2=\"187.438\" y2=\"259.848\" stroke-linecap=\"round\" style=\"stroke:red;stroke-width:4\"/><line x1=\"187.438\" y1=\"259.848\" x2=\"190.858\" y2=\"269.245\" stroke-linecap=\"round\" style=\"stroke:red;stroke-width:4\"/><line x1=\"190.858\" y1=\"269.245\" x2=\"195.858\" y2=\"277.905\" stroke-linecap=\"round\" style=\"stroke:red;stroke-width:4\"/><line x1=\"195.858\" y1=\"277.905\" x2=\"202.286\" y2=\"285.565\" stroke-linecap=\"round\" style=\"stroke:red;stroke-width:4\"/><line x1=\"202.286\" y1=\"285.565\" x2=\"209.946\" y2=\"291.993\" stroke-linecap=\"round\" style=\"stroke:red;stroke-width:4\"/><line x1=\"209.946\" y1=\"291.993\" x2=\"218.606\" y2=\"296.993\" stroke-linecap=\"round\" style=\"stroke:red;stroke-width:4\"/><line x1=\"218.606\" y1=\"296.993\" x2=\"228.003\" y2=\"300.413\" stroke-linecap=\"round\" style=\"stroke:red;stroke-width:4\"/><line x1=\"228.003\" y1=\"300.413\" x2=\"237.851\" y2=\"302.149\" stroke-linecap=\"round\" style=\"stroke:red;stroke-width:4\"/><line x1=\"237.851\" y1=\"302.149\" x2=\"247.851\" y2=\"302.149\" stroke-linecap=\"round\" style=\"stroke:red;stroke-width:4\"/><line x1=\"247.851\" y1=\"302.149\" x2=\"257.699\" y2=\"300.413\" stroke-linecap=\"round\" style=\"stroke:red;stroke-width:4\"/><line x1=\"257.699\" y1=\"300.413\" x2=\"267.096\" y2=\"296.993\" stroke-linecap=\"round\" style=\"stroke:red;stroke-width:4\"/><line x1=\"267.096\" y1=\"296.993\" x2=\"275.756\" y2=\"291.993\" stroke-linecap=\"round\" style=\"stroke:red;stroke-width:4\"/><line x1=\"275.756\" y1=\"291.993\" x2=\"283.416\" y2=\"285.565\" stroke-linecap=\"round\" style=\"stroke:red;stroke-width:4\"/><line x1=\"283.416\" y1=\"285.565\" x2=\"289.844\" y2=\"277.905\" stroke-linecap=\"round\" style=\"stroke:red;stroke-width:4\"/><line x1=\"289.844\" y1=\"277.905\" x2=\"294.844\" y2=\"269.245\" stroke-linecap=\"round\" style=\"stroke:red;stroke-width:4\"/><line x1=\"294.844\" y1=\"269.245\" x2=\"298.264\" y2=\"259.848\" stroke-linecap=\"round\" style=\"stroke:red;stroke-width:4\"/><line x1=\"298.264\" y1=\"259.848\" x2=\"300.0\" y2=\"250.0\" stroke-linecap=\"round\" style=\"stroke:red;stroke-width:4\"/><line x1=\"300.0\" y1=\"250.0\" x2=\"300.0\" y2=\"240.0\" stroke-linecap=\"round\" style=\"stroke:red;stroke-width:4\"/><line x1=\"300.0\" y1=\"240.0\" x2=\"298.264\" y2=\"230.152\" stroke-linecap=\"round\" style=\"stroke:red;stroke-width:4\"/><line x1=\"298.264\" y1=\"230.152\" x2=\"294.844\" y2=\"220.755\" stroke-linecap=\"round\" style=\"stroke:red;stroke-width:4\"/><line x1=\"294.844\" y1=\"220.755\" x2=\"289.844\" y2=\"212.095\" stroke-linecap=\"round\" style=\"stroke:red;stroke-width:4\"/><line x1=\"289.844\" y1=\"212.095\" x2=\"283.416\" y2=\"204.435\" stroke-linecap=\"round\" style=\"stroke:red;stroke-width:4\"/><line x1=\"283.416\" y1=\"204.435\" x2=\"275.756\" y2=\"198.007\" stroke-linecap=\"round\" style=\"stroke:red;stroke-width:4\"/><line x1=\"275.756\" y1=\"198.007\" x2=\"267.096\" y2=\"193.007\" stroke-linecap=\"round\" style=\"stroke:red;stroke-width:4\"/><line x1=\"267.096\" y1=\"193.007\" x2=\"257.699\" y2=\"189.587\" stroke-linecap=\"round\" style=\"stroke:red;stroke-width:4\"/><line x1=\"257.699\" y1=\"189.587\" x2=\"247.851\" y2=\"187.851\" stroke-linecap=\"round\" style=\"stroke:red;stroke-width:4\"/><line x1=\"247.851\" y1=\"187.851\" x2=\"237.851\" y2=\"187.851\" stroke-linecap=\"round\" style=\"stroke:red;stroke-width:4\"/><line x1=\"237.851\" y1=\"187.851\" x2=\"228.003\" y2=\"189.587\" stroke-linecap=\"round\" style=\"stroke:red;stroke-width:4\"/><line x1=\"228.003\" y1=\"189.587\" x2=\"218.606\" y2=\"193.007\" stroke-linecap=\"round\" style=\"stroke:red;stroke-width:4\"/><line x1=\"218.606\" y1=\"193.007\" x2=\"209.946\" y2=\"198.007\" stroke-linecap=\"round\" style=\"stroke:red;stroke-width:4\"/><line x1=\"209.946\" y1=\"198.007\" x2=\"202.286\" y2=\"204.435\" stroke-linecap=\"round\" style=\"stroke:red;stroke-width:4\"/><line x1=\"202.286\" y1=\"204.435\" x2=\"195.858\" y2=\"212.095\" stroke-linecap=\"round\" style=\"stroke:red;stroke-width:4\"/><line x1=\"195.858\" y1=\"212.095\" x2=\"190.858\" y2=\"220.755\" stroke-linecap=\"round\" style=\"stroke:red;stroke-width:4\"/><line x1=\"190.858\" y1=\"220.755\" x2=\"187.438\" y2=\"230.152\" stroke-linecap=\"round\" style=\"stroke:red;stroke-width:4\"/><line x1=\"187.438\" y1=\"230.152\" x2=\"185.702\" y2=\"240.0\" stroke-linecap=\"round\" style=\"stroke:red;stroke-width:4\"/><line x1=\"185.702\" y1=\"240.0\" x2=\"135.702\" y2=\"240.0\" stroke-linecap=\"round\" style=\"stroke:red;stroke-width:4\"/><line x1=\"135.702\" y1=\"240.0\" x2=\"88.717\" y2=\"222.899\" stroke-linecap=\"round\" style=\"stroke:red;stroke-width:4\"/><line x1=\"88.717\" y1=\"222.899\" x2=\"53.362\" y2=\"187.544\" stroke-linecap=\"round\" style=\"stroke:red;stroke-width:4\"/><line x1=\"53.362\" y1=\"187.544\" x2=\"53.362\" y2=\"137.544\" stroke-linecap=\"round\" style=\"stroke:red;stroke-width:4\"/><line x1=\"53.362\" y1=\"137.544\" x2=\"253.362\" y2=\"137.544\" stroke-linecap=\"round\" style=\"stroke:red;stroke-width:4\"/><line x1=\"253.362\" y1=\"137.544\" x2=\"274.068\" y2=\"60.27\" stroke-linecap=\"round\" style=\"stroke:red;stroke-width:4\"/><line x1=\"274.068\" y1=\"60.27\" x2=\"474.068\" y2=\"60.27\" stroke-linecap=\"round\" style=\"stroke:red;stroke-width:4\"/><line x1=\"474.068\" y1=\"60.27\" x2=\"494.774\" y2=\"137.544\" stroke-linecap=\"round\" style=\"stroke:red;stroke-width:4\"/><line x1=\"494.774\" y1=\"137.544\" x2=\"394.774\" y2=\"137.544\" stroke-linecap=\"round\" style=\"stroke:red;stroke-width:4\"/><line x1=\"394.774\" y1=\"137.544\" x2=\"394.774\" y2=\"77.544\" stroke-linecap=\"round\" style=\"stroke:red;stroke-width:4\"/><line x1=\"394.774\" y1=\"77.544\" x2=\"479.774\" y2=\"77.544\" stroke-linecap=\"round\" style=\"stroke:red;stroke-width:4\"/><line x1=\"479.774\" y1=\"77.544\" x2=\"495.303\" y2=\"135.5\" stroke-linecap=\"round\" style=\"stroke:red;stroke-width:4\"/><line x1=\"495.303\" y1=\"135.5\" x2=\"694.542\" y2=\"152.931\" stroke-linecap=\"round\" style=\"stroke:red;stroke-width:4\"/><line x1=\"694.542\" y1=\"152.931\" x2=\"694.542\" y2=\"192.931\" stroke-linecap=\"round\" style=\"stroke:red;stroke-width:4\"/><line x1=\"694.542\" y1=\"192.931\" x2=\"712.668\" y2=\"201.383\" stroke-linecap=\"round\" style=\"stroke:red;stroke-width:4\"/><line x1=\"712.668\" y1=\"201.383\" x2=\"703.986\" y2=\"250.623\" stroke-linecap=\"round\" style=\"stroke:red;stroke-width:4\"/><line x1=\"703.986\" y1=\"250.623\" x2=\"603.986\" y2=\"250.623\" stroke-linecap=\"round\" style=\"stroke:red;stroke-width:4\"/><line x1=\"603.986\" y1=\"250.623\" x2=\"603.986\" y2=\"240.623\" stroke-linecap=\"round\" style=\"stroke:red;stroke-width:4\"/><line x1=\"603.986\" y1=\"240.623\" x2=\"602.25\" y2=\"230.775\" stroke-linecap=\"round\" style=\"stroke:red;stroke-width:4\"/><line x1=\"602.25\" y1=\"230.775\" x2=\"598.83\" y2=\"221.378\" stroke-linecap=\"round\" style=\"stroke:red;stroke-width:4\"/><line x1=\"598.83\" y1=\"221.378\" x2=\"593.83\" y2=\"212.718\" stroke-linecap=\"round\" style=\"stroke:red;stroke-width:4\"/><line x1=\"593.83\" y1=\"212.718\" x2=\"587.402\" y2=\"205.058\" stroke-linecap=\"round\" style=\"stroke:red;stroke-width:4\"/><line x1=\"587.402\" y1=\"205.058\" x2=\"579.742\" y2=\"198.63\" stroke-linecap=\"round\" style=\"stroke:red;stroke-width:4\"/><line x1=\"579.742\" y1=\"198.63\" x2=\"571.082\" y2=\"193.63\" stroke-linecap=\"round\" style=\"stroke:red;stroke-width:4\"/><line x1=\"571.082\" y1=\"193.63\" x2=\"561.685\" y2=\"190.21\" stroke-linecap=\"round\" style=\"stroke:red;stroke-width:4\"/><line x1=\"561.685\" y1=\"190.21\" x2=\"551.837\" y2=\"188.474\" stroke-linecap=\"round\" style=\"stroke:red;stroke-width:4\"/><line x1=\"551.837\" y1=\"188.474\" x2=\"541.837\" y2=\"188.474\" stroke-linecap=\"round\" style=\"stroke:red;stroke-width:4\"/><line x1=\"541.837\" y1=\"188.474\" x2=\"531.989\" y2=\"190.21\" stroke-linecap=\"round\" style=\"stroke:red;stroke-width:4\"/><line x1=\"531.989\" y1=\"190.21\" x2=\"522.592\" y2=\"193.63\" stroke-linecap=\"round\" style=\"stroke:red;stroke-width:4\"/><line x1=\"522.592\" y1=\"193.63\" x2=\"513.932\" y2=\"198.63\" stroke-linecap=\"round\" style=\"stroke:red;stroke-width:4\"/><line x1=\"513.932\" y1=\"198.63\" x2=\"506.272\" y2=\"205.058\" stroke-linecap=\"round\" style=\"stroke:red;stroke-width:4\"/><line x1=\"506.272\" y1=\"205.058\" x2=\"499.844\" y2=\"212.718\" stroke-linecap=\"round\" style=\"stroke:red;stroke-width:4\"/><line x1=\"499.844\" y1=\"212.718\" x2=\"494.844\" y2=\"221.378\" stroke-linecap=\"round\" style=\"stroke:red;stroke-width:4\"/><line x1=\"494.844\" y1=\"221.378\" x2=\"491.424\" y2=\"230.775\" stroke-linecap=\"round\" style=\"stroke:red;stroke-width:4\"/><line x1=\"491.424\" y1=\"230.775\" x2=\"489.688\" y2=\"240.623\" stroke-linecap=\"round\" style=\"stroke:red;stroke-width:4\"/><line x1=\"489.688\" y1=\"240.623\" x2=\"489.688\" y2=\"250.623\" stroke-linecap=\"round\" style=\"stroke:red;stroke-width:4\"/><line x1=\"489.688\" y1=\"250.623\" x2=\"491.424\" y2=\"260.471\" stroke-linecap=\"round\" style=\"stroke:red;stroke-width:4\"/><line x1=\"491.424\" y1=\"260.471\" x2=\"494.844\" y2=\"269.868\" stroke-linecap=\"round\" style=\"stroke:red;stroke-width:4\"/><line x1=\"494.844\" y1=\"269.868\" x2=\"499.844\" y2=\"278.528\" stroke-linecap=\"round\" style=\"stroke:red;stroke-width:4\"/><line x1=\"499.844\" y1=\"278.528\" x2=\"506.272\" y2=\"286.188\" stroke-linecap=\"round\" style=\"stroke:red;stroke-width:4\"/><line x1=\"506.272\" y1=\"286.188\" x2=\"513.932\" y2=\"292.616\" stroke-linecap=\"round\" style=\"stroke:red;stroke-width:4\"/><line x1=\"513.932\" y1=\"292.616\" x2=\"522.592\" y2=\"297.616\" stroke-linecap=\"round\" style=\"stroke:red;stroke-width:4\"/><line x1=\"522.592\" y1=\"297.616\" x2=\"531.989\" y2=\"301.036\" stroke-linecap=\"round\" style=\"stroke:red;stroke-width:4\"/><line x1=\"531.989\" y1=\"301.036\" x2=\"541.837\" y2=\"302.772\" stroke-linecap=\"round\" style=\"stroke:red;stroke-width:4\"/><line x1=\"541.837\" y1=\"302.772\" x2=\"551.837\" y2=\"302.772\" stroke-linecap=\"round\" style=\"stroke:red;stroke-width:4\"/><line x1=\"551.837\" y1=\"302.772\" x2=\"561.685\" y2=\"301.036\" stroke-linecap=\"round\" style=\"stroke:red;stroke-width:4\"/><line x1=\"561.685\" y1=\"301.036\" x2=\"571.082\" y2=\"297.616\" stroke-linecap=\"round\" style=\"stroke:red;stroke-width:4\"/><line x1=\"571.082\" y1=\"297.616\" x2=\"579.742\" y2=\"292.616\" stroke-linecap=\"round\" style=\"stroke:red;stroke-width:4\"/><line x1=\"579.742\" y1=\"292.616\" x2=\"587.402\" y2=\"286.188\" stroke-linecap=\"round\" style=\"stroke:red;stroke-width:4\"/><line x1=\"587.402\" y1=\"286.188\" x2=\"593.83\" y2=\"278.528\" stroke-linecap=\"round\" style=\"stroke:red;stroke-width:4\"/><line x1=\"593.83\" y1=\"278.528\" x2=\"598.83\" y2=\"269.868\" stroke-linecap=\"round\" style=\"stroke:red;stroke-width:4\"/><line x1=\"598.83\" y1=\"269.868\" x2=\"602.25\" y2=\"260.471\" stroke-linecap=\"round\" style=\"stroke:red;stroke-width:4\"/><line x1=\"602.25\" y1=\"260.471\" x2=\"603.986\" y2=\"250.623\" stroke-linecap=\"round\" style=\"stroke:red;stroke-width:4\"/><line x1=\"603.986\" y1=\"250.623\" x2=\"603.986\" y2=\"240.623\" stroke-linecap=\"round\" style=\"stroke:red;stroke-width:4\"/><line x1=\"603.986\" y1=\"240.623\" x2=\"602.25\" y2=\"230.775\" stroke-linecap=\"round\" style=\"stroke:red;stroke-width:4\"/><line x1=\"602.25\" y1=\"230.775\" x2=\"598.83\" y2=\"221.378\" stroke-linecap=\"round\" style=\"stroke:red;stroke-width:4\"/><line x1=\"598.83\" y1=\"221.378\" x2=\"593.83\" y2=\"212.718\" stroke-linecap=\"round\" style=\"stroke:red;stroke-width:4\"/><line x1=\"593.83\" y1=\"212.718\" x2=\"587.402\" y2=\"205.058\" stroke-linecap=\"round\" style=\"stroke:red;stroke-width:4\"/><line x1=\"587.402\" y1=\"205.058\" x2=\"579.742\" y2=\"198.63\" stroke-linecap=\"round\" style=\"stroke:red;stroke-width:4\"/><line x1=\"579.742\" y1=\"198.63\" x2=\"571.082\" y2=\"193.63\" stroke-linecap=\"round\" style=\"stroke:red;stroke-width:4\"/><line x1=\"571.082\" y1=\"193.63\" x2=\"561.685\" y2=\"190.21\" stroke-linecap=\"round\" style=\"stroke:red;stroke-width:4\"/><line x1=\"561.685\" y1=\"190.21\" x2=\"551.837\" y2=\"188.474\" stroke-linecap=\"round\" style=\"stroke:red;stroke-width:4\"/><line x1=\"551.837\" y1=\"188.474\" x2=\"541.837\" y2=\"188.474\" stroke-linecap=\"round\" style=\"stroke:red;stroke-width:4\"/><line x1=\"541.837\" y1=\"188.474\" x2=\"531.989\" y2=\"190.21\" stroke-linecap=\"round\" style=\"stroke:red;stroke-width:4\"/><line x1=\"531.989\" y1=\"190.21\" x2=\"522.592\" y2=\"193.63\" stroke-linecap=\"round\" style=\"stroke:red;stroke-width:4\"/><line x1=\"522.592\" y1=\"193.63\" x2=\"513.932\" y2=\"198.63\" stroke-linecap=\"round\" style=\"stroke:red;stroke-width:4\"/><line x1=\"513.932\" y1=\"198.63\" x2=\"506.272\" y2=\"205.058\" stroke-linecap=\"round\" style=\"stroke:red;stroke-width:4\"/><line x1=\"506.272\" y1=\"205.058\" x2=\"499.844\" y2=\"212.718\" stroke-linecap=\"round\" style=\"stroke:red;stroke-width:4\"/><line x1=\"499.844\" y1=\"212.718\" x2=\"494.844\" y2=\"221.378\" stroke-linecap=\"round\" style=\"stroke:red;stroke-width:4\"/><line x1=\"494.844\" y1=\"221.378\" x2=\"491.424\" y2=\"230.775\" stroke-linecap=\"round\" style=\"stroke:red;stroke-width:4\"/><line x1=\"491.424\" y1=\"230.775\" x2=\"489.688\" y2=\"240.623\" stroke-linecap=\"round\" style=\"stroke:red;stroke-width:4\"/><line x1=\"489.688\" y1=\"240.623\" x2=\"489.688\" y2=\"250.623\" stroke-linecap=\"round\" style=\"stroke:red;stroke-width:4\"/><line x1=\"489.688\" y1=\"250.623\" x2=\"389.688\" y2=\"250.623\" stroke-linecap=\"round\" style=\"stroke:red;stroke-width:4\"/>\n",
       "        <g visibility=hidden transform=\"rotate(270,389.688,250.623) translate(371.688, 232.623)\">\n",
       "<path style=\" stroke:none;fill-rule:evenodd;fill:red;fill-opacity:1;\" d=\"M 18.214844 0.632812 C 16.109375 1.800781 15.011719 4.074219 15.074219 7.132812 L 15.085938 7.652344 L 14.785156 7.496094 C 13.476562 6.824219 11.957031 6.671875 10.40625 7.066406 C 8.46875 7.550781 6.515625 9.15625 4.394531 11.992188 C 3.0625 13.777344 2.679688 14.636719 3.042969 15.027344 L 3.15625 15.152344 L 3.519531 15.152344 C 4.238281 15.152344 4.828125 14.886719 8.1875 13.039062 C 9.386719 12.378906 10.371094 11.839844 10.378906 11.839844 C 10.386719 11.839844 10.355469 11.929688 10.304688 12.035156 C 9.832031 13.09375 9.257812 14.820312 8.96875 16.078125 C 7.914062 20.652344 8.617188 24.53125 11.070312 27.660156 C 11.351562 28.015625 11.363281 27.914062 10.972656 28.382812 C 8.925781 30.84375 7.945312 33.28125 8.238281 35.1875 C 8.289062 35.527344 8.28125 35.523438 8.917969 35.523438 C 10.941406 35.523438 13.074219 34.207031 15.136719 31.6875 C 15.359375 31.417969 15.328125 31.425781 15.5625 31.574219 C 16.292969 32.042969 18.023438 32.964844 18.175781 32.964844 C 18.335938 32.964844 19.941406 32.210938 20.828125 31.71875 C 20.996094 31.625 21.136719 31.554688 21.136719 31.558594 C 21.203125 31.664062 21.898438 32.414062 22.222656 32.730469 C 23.835938 34.300781 25.5625 35.132812 27.582031 35.300781 C 27.90625 35.328125 27.9375 35.308594 28.007812 34.984375 C 28.382812 33.242188 27.625 30.925781 25.863281 28.425781 L 25.542969 27.96875 L 25.699219 27.785156 C 28.945312 23.960938 29.132812 18.699219 26.257812 11.96875 L 26.207031 11.84375 L 27.945312 12.703125 C 31.53125 14.476562 32.316406 14.800781 33.03125 14.800781 C 33.976562 14.800781 33.78125 13.9375 32.472656 12.292969 C 28.519531 7.355469 25.394531 5.925781 21.921875 7.472656 L 21.558594 7.636719 L 21.578125 7.542969 C 21.699219 6.992188 21.761719 5.742188 21.699219 5.164062 C 21.496094 3.296875 20.664062 1.964844 19.003906 0.855469 C 18.480469 0.503906 18.457031 0.5 18.214844 0.632812\"/>\n",
       "</g>\n",
       "      </svg>\n",
       "    "
      ],
      "text/plain": [
       "<IPython.core.display.HTML object>"
      ]
     },
     "metadata": {},
     "output_type": "display_data"
    }
   ],
   "source": [
    "Four_Wheels = Four_Wheels('red' , 1 )\n",
    "Four_Wheels.draw()"
   ]
  }
 ],
 "metadata": {
  "kernelspec": {
   "display_name": "Python 3",
   "language": "python",
   "name": "python3"
  },
  "language_info": {
   "codemirror_mode": {
    "name": "ipython",
    "version": 3
   },
   "file_extension": ".py",
   "mimetype": "text/x-python",
   "name": "python",
   "nbconvert_exporter": "python",
   "pygments_lexer": "ipython3",
   "version": "3.10.9"
  }
 },
 "nbformat": 4,
 "nbformat_minor": 2
}
